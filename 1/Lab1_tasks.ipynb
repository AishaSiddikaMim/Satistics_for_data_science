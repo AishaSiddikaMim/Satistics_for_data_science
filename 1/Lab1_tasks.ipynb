{
 "cells": [
  {
   "cell_type": "markdown",
   "metadata": {
    "id": "jVt420YpLVvo"
   },
   "source": [
    "# Lab 1 Assignment: Basics of Python\n",
    "\n",
    "Solve the questions in this jupyter notebook. You must:\n",
    "- make your code tidy with appropriate comments.\n",
    "- Use the code segment below the questions.\n",
    "- Submit the code by 11:59 PM, Saturday\n",
    " "
   ]
  },
  {
   "cell_type": "markdown",
   "metadata": {
    "id": "h3kCiRDiKtfr"
   },
   "source": [
    "# 1. Read inputs from the user. Write a Python program to return their product. If the product is greater than 1000, then return their sum as well. "
   ]
  },
  {
   "cell_type": "code",
   "execution_count": 12,
   "metadata": {
    "id": "h6B52Fr2Kngi"
   },
   "outputs": [
    {
     "name": "stdout",
     "output_type": "stream",
     "text": [
      "Product: 40000\n",
      "Sum: 400\n"
     ]
    }
   ],
   "source": [
    "a = input(\"\")\n",
    "b = input(\"\")\n",
    "\n",
    "product = int(a) * int(b)\n",
    "print(\"Product:\", product)\n",
    "\n",
    "if product > 1000:\n",
    "    sum = int(a) + int(b)\n",
    "    print(\"Sum:\", sum)"
   ]
  },
  {
   "cell_type": "markdown",
   "metadata": {
    "id": "xkPxeljPM6PQ"
   },
   "source": [
    "# 2. Write a Python program to find the area and perimeter of a circle. Read inputs from the user."
   ]
  },
  {
   "cell_type": "code",
   "execution_count": 3,
   "metadata": {
    "id": "Hj_PKxSgNBH5"
   },
   "outputs": [
    {
     "name": "stdout",
     "output_type": "stream",
     "text": [
      "Area of the circle: 66.47625599999999\n",
      "Perimeter of the circle: 28.90272\n"
     ]
    }
   ],
   "source": [
    "pi = 3.1416\n",
    "radius = input(\"\")\n",
    "\n",
    "area = pi * float(radius) * float(radius)\n",
    "perimeter = 2 * pi * float(radius)\n",
    "\n",
    "print(\"Area of the circle:\", area)\n",
    "print(\"Perimeter of the circle:\", perimeter)"
   ]
  },
  {
   "cell_type": "markdown",
   "metadata": {
    "id": "OZDC6jCYNCJj"
   },
   "source": [
    "# 3. Given a positive integer N (read from the user), write a Python program to calculate the value of the following series.\n",
    "`1^2 + 2^2 + 3^2 + 4^2 + … + N^2`"
   ]
  },
  {
   "cell_type": "code",
   "execution_count": 11,
   "metadata": {
    "id": "G0kmtdqoNbio"
   },
   "outputs": [
    {
     "name": "stdout",
     "output_type": "stream",
     "text": [
      "9\n",
      "Value: 285.0\n"
     ]
    }
   ],
   "source": [
    "N = int(input(\"\"))\n",
    "value = ((N * (N + 1) * ((2 * N) + 1)) / 6)\n",
    "\n",
    "print(\"Value:\", value)"
   ]
  },
  {
   "cell_type": "markdown",
   "metadata": {
    "id": "1P8HMSmJNhAB"
   },
   "source": [
    "# 4. Given a positive integer N (read from the user), write a Python program to check if the number is prime or not."
   ]
  },
  {
   "cell_type": "code",
   "execution_count": 3,
   "metadata": {
    "id": "1RM57x4eNlFs"
   },
   "outputs": [
    {
     "name": "stdout",
     "output_type": "stream",
     "text": [
      "17 is a prime number\n"
     ]
    }
   ],
   "source": [
    "N = int(input(\"\"))\n",
    "flag = False\n",
    "\n",
    "if N > 1:\n",
    "    for i in range(2, N):\n",
    "        if(N % i) == 0:\n",
    "            flag = True\n",
    "            break\n",
    "\n",
    "if flag:\n",
    "    print(N, \"is not a prime number\")\n",
    "else:\n",
    "    print(N, \"is a prime number\")"
   ]
  },
  {
   "cell_type": "markdown",
   "metadata": {
    "id": "lbI7vio0Nsg-"
   },
   "source": [
    "# 5. Given a list of numbers (hardcoded in the program), write a Python program to calculate the sum of the list. Do not use any built-in function."
   ]
  },
  {
   "cell_type": "code",
   "execution_count": 50,
   "metadata": {
    "id": "ZtI16tjCNu1y"
   },
   "outputs": [
    {
     "name": "stdout",
     "output_type": "stream",
     "text": [
      "Sum: 84\n"
     ]
    }
   ],
   "source": [
    "list = [10, 15, 34, 6, 2, 17]\n",
    "sum = 0\n",
    "\n",
    "for i in list:\n",
    "    sum = sum + int(i)\n",
    "print(\"Sum:\", sum)"
   ]
  },
  {
   "cell_type": "markdown",
   "metadata": {
    "id": "g1-QgspnN77g"
   },
   "source": [
    "# 6. Given a list of numbers (hardcoded in the program), write a Python program to calculate the sum of the even-indexed elements in the list."
   ]
  },
  {
   "cell_type": "code",
   "execution_count": 47,
   "metadata": {
    "id": "Q8ymeCypN-0d"
   },
   "outputs": [
    {
     "name": "stdout",
     "output_type": "stream",
     "text": [
      "Sum of the even-indexed elements: 26\n"
     ]
    }
   ],
   "source": [
    "list = [12, 29, 3, 5, 11, 4]\n",
    "even = 0\n",
    "\n",
    "for i in range (len(list)):\n",
    "    if i % 2 == 0:\n",
    "        even = even + list[i]\n",
    "print(\"Sum of the even-indexed elements:\", even)"
   ]
  },
  {
   "cell_type": "markdown",
   "metadata": {
    "id": "BgRKgShEOLHl"
   },
   "source": [
    "# 7. Given a list of numbers (hardcoded in the program), write a Python program to find the second largest element of the list."
   ]
  },
  {
   "cell_type": "code",
   "execution_count": 10,
   "metadata": {
    "id": "eOqMwnOfONGA"
   },
   "outputs": [
    {
     "name": "stdout",
     "output_type": "stream",
     "text": [
      "Second largest element is: 60\n"
     ]
    }
   ],
   "source": [
    "list = [30, 60, 49, 51, 68]\n",
    "\n",
    "large = list[0]\n",
    "for i in range(len(list)):\n",
    "    if large < list[i]:\n",
    "        large = list[i]\n",
    "\n",
    "secondLarge = list[0]\n",
    "for i in range(len(list)):\n",
    "    if secondLarge < list[i]:\n",
    "        if list[i] != large:\n",
    "            secondLarge = list[i]\n",
    "            \n",
    "print(\"Second largest element is:\", secondLarge)"
   ]
  },
  {
   "cell_type": "markdown",
   "metadata": {
    "id": "rbCQwcK0ORTa"
   },
   "source": [
    "# 8. Given a string, display only those characters which are present at an even index number. Read inputs from the user."
   ]
  },
  {
   "cell_type": "code",
   "execution_count": 11,
   "metadata": {
    "id": "-x-qAPwnOT3K"
   },
   "outputs": [
    {
     "name": "stdout",
     "output_type": "stream",
     "text": [
      "a s a "
     ]
    }
   ],
   "source": [
    "string = input(\"\")\n",
    "\n",
    "for i in range(len(string)):\n",
    "    if i % 2 == 0:\n",
    "        print(string[i], end = \" \")"
   ]
  },
  {
   "cell_type": "markdown",
   "metadata": {
    "id": "2vIzxCHgOabN"
   },
   "source": [
    "# 9. Given a string and an integer number N, remove characters from a string starting from zero up to N and return a new string. N must be less than the length of the string. Read inputs from the user. Do not use any built-in function."
   ]
  },
  {
   "cell_type": "code",
   "execution_count": 9,
   "metadata": {
    "id": "qAaNW6z4OcwC"
   },
   "outputs": [
    {
     "name": "stdout",
     "output_type": "stream",
     "text": [
      "Old String: aishasiddika\n",
      "New String: siddika\n"
     ]
    }
   ],
   "source": [
    "string = input(\"\")\n",
    "N = 4\n",
    "\n",
    "print(\"Old String:\", string)\n",
    "\n",
    "newString = \"\"\n",
    "\n",
    "for i in range(0, len(string)):\n",
    "    if i > N:\n",
    "        newString = newString + string[i]\n",
    "\n",
    "print(\"New String:\", newString)"
   ]
  },
  {
   "cell_type": "markdown",
   "metadata": {
    "id": "Z0SdoOwoOlzP"
   },
   "source": [
    "# 10. Given a string, find the count of the substring “CSE303” appeared in the given string. Do not use any built-in function.\n",
    "\n",
    "The string is: \"This is CSE303 course. The name of CSE303 is: Statistics for Data Science. It's a fundamental CSE course for future data scientists.\""
   ]
  },
  {
   "cell_type": "code",
   "execution_count": 4,
   "metadata": {
    "id": "D5we1z4CPDTe"
   },
   "outputs": [
    {
     "name": "stdout",
     "output_type": "stream",
     "text": [
      "1\n"
     ]
    }
   ],
   "source": [
    "\n",
    "def count_subString(string, subString):\n",
    "    N = len(string)\n",
    "    P = len(subString)\n",
    "    temp = 0\n",
    "\n",
    "    for i in range (N - P + 1):\n",
    "        current = 0\n",
    "\n",
    "        while current < P:\n",
    "\n",
    "            if string[i + current] != subString[current]:\n",
    "                break\n",
    "            current = current + 1\n",
    "\n",
    "        if current == P:\n",
    "            temp = temp + 1\n",
    "            current = 0\n",
    "    return temp\n",
    "\n",
    "string = \"CSE303LAB01\"\n",
    "subString = \"CSE303\"\n",
    "\n",
    "print(count_subString(string, subString))"
   ]
  },
  {
   "cell_type": "markdown",
   "metadata": {
    "id": "HVb5PdKyPfKT"
   },
   "source": [
    "# 11. Given a two list of numbers (hardcoded in the program), create a new list such that new list should contain only odd numbers from the first list and even numbers from the second list."
   ]
  },
  {
   "cell_type": "code",
   "execution_count": 13,
   "metadata": {
    "id": "TojILvwsPiXG"
   },
   "outputs": [
    {
     "name": "stdout",
     "output_type": "stream",
     "text": [
      "New List: [1, 3, 5, 6, 8, 10]\n"
     ]
    }
   ],
   "source": [
    "list1 = [1, 2, 3, 4, 5]\n",
    "list2 = [6, 7, 8, 9, 10]\n",
    "\n",
    "def odd(list1):\n",
    "    list3 = []\n",
    "    for i in list1:\n",
    "        if i % 2 != 0:\n",
    "            list3.append(i)\n",
    "    return list3\n",
    "\n",
    "def even(list2):\n",
    "    list3 = []\n",
    "    for i in list2:\n",
    "        if i % 2 == 0:\n",
    "            list3.append(i)\n",
    "    return list3\n",
    "\n",
    "list3 = []\n",
    "list3 = list3 + odd(list1)\n",
    "list3 = list3 + even(list2)\n",
    "\n",
    "print(\"New List:\", list3)"
   ]
  },
  {
   "cell_type": "markdown",
   "metadata": {
    "id": "Nq1BDazRPLGJ"
   },
   "source": [
    "# Bonus points:\n",
    "\n",
    "Learn how to define functions in python and solve the problem:\n",
    "\n",
    "Given a string, write a python program to check if it is palindrome or not. Define a function named palindrome_checker_<your-student-id> in your program."
   ]
  },
  {
   "cell_type": "code",
   "execution_count": 1,
   "metadata": {
    "id": "NmyMklbXPeOL"
   },
   "outputs": [
    {
     "name": "stdout",
     "output_type": "stream",
     "text": [
      "Plaindrome Number\n"
     ]
    }
   ],
   "source": [
    "def plaindrome_checker(number):\n",
    "    i = 0\n",
    "    mod = 0\n",
    "\n",
    "    while number > 0:\n",
    "        mod = number % 10\n",
    "        i = i * 10 + mod\n",
    "        number = number // 10\n",
    "    return i\n",
    "\n",
    "number = int(input(\"\"))\n",
    "i = plaindrome_checker(number)\n",
    "\n",
    "if number == i:\n",
    "    print(\"Plaindrome Number\")\n",
    "\n",
    "else:\n",
    "    print(\"Not a Plaindrome Number\")"
   ]
  }
 ],
 "metadata": {
  "colab": {
   "collapsed_sections": [
    "jVt420YpLVvo",
    "h3kCiRDiKtfr",
    "OZDC6jCYNCJj",
    "1P8HMSmJNhAB",
    "lbI7vio0Nsg-",
    "g1-QgspnN77g",
    "BgRKgShEOLHl",
    "rbCQwcK0ORTa",
    "2vIzxCHgOabN",
    "Z0SdoOwoOlzP",
    "HVb5PdKyPfKT",
    "Nq1BDazRPLGJ"
   ],
   "provenance": []
  },
  "kernelspec": {
   "display_name": "Python 3",
   "language": "python",
   "name": "python3"
  },
  "language_info": {
   "codemirror_mode": {
    "name": "ipython",
    "version": 3
   },
   "file_extension": ".py",
   "mimetype": "text/x-python",
   "name": "python",
   "nbconvert_exporter": "python",
   "pygments_lexer": "ipython3",
   "version": "3.10.10"
  },
  "vscode": {
   "interpreter": {
    "hash": "afb734500600fd355917ca529030176ea0ca205570884b88f2f6f7d791fd3fbe"
   }
  }
 },
 "nbformat": 4,
 "nbformat_minor": 1
}
